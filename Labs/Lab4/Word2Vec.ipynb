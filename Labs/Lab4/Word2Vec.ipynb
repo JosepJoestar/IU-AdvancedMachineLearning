{
 "cells": [
  {
   "cell_type": "code",
   "execution_count": 1,
   "metadata": {
    "colab": {
     "base_uri": "https://localhost:8080/",
     "height": 34
    },
    "colab_type": "code",
    "executionInfo": {
     "elapsed": 1075,
     "status": "ok",
     "timestamp": 1550860240236,
     "user": {
      "displayName": "Josep de Cid",
      "photoUrl": "https://lh4.googleusercontent.com/-NC3w5opGZ44/AAAAAAAAAAI/AAAAAAAABLQ/CXlgViJAHVs/s64/photo.jpg",
      "userId": "05671389779305440365"
     },
     "user_tz": -180
    },
    "id": "xOgU1krZG1vn",
    "outputId": "9b752e01-c49e-4997-f956-bf4e6b4db56b"
   },
   "outputs": [
    {
     "name": "stdout",
     "output_type": "stream",
     "text": [
      "Drive already mounted at ./gdrive; to attempt to forcibly remount, call drive.mount(\"./gdrive\", force_remount=True).\n"
     ]
    }
   ],
   "source": [
    "from google.colab import drive\n",
    "\n",
    "drive.mount('./gdrive')"
   ]
  },
  {
   "cell_type": "code",
   "execution_count": null,
   "metadata": {
    "colab": {
     "base_uri": "https://localhost:8080/",
     "height": 265
    },
    "colab_type": "code",
    "executionInfo": {
     "elapsed": 32058,
     "status": "ok",
     "timestamp": 1550851309030,
     "user": {
      "displayName": "Josep de Cid",
      "photoUrl": "https://lh4.googleusercontent.com/-NC3w5opGZ44/AAAAAAAAAAI/AAAAAAAABLQ/CXlgViJAHVs/s64/photo.jpg",
      "userId": "05671389779305440365"
     },
     "user_tz": -180
    },
    "id": "FmXAkiWKHSsE",
    "outputId": "092f5952-c026-40fd-c6d6-be81664a9f67"
   },
   "outputs": [
    {
     "name": "stdout",
     "output_type": "stream",
     "text": [
      "--2019-02-22 18:30:40--  https://bin.equinox.io/c/4VmDzA7iaHb/ngrok-stable-linux-amd64.zip\n",
      "Resolving bin.equinox.io (bin.equinox.io)... 52.203.53.176, 52.207.111.186, 52.201.75.180, ...\n",
      "Connecting to bin.equinox.io (bin.equinox.io)|52.203.53.176|:443... connected.\n",
      "HTTP request sent, awaiting response... 200 OK\n",
      "Length: 5363700 (5.1M) [application/octet-stream]\n",
      "Saving to: ‘ngrok-stable-linux-amd64.zip.1’\n",
      "\n",
      "ngrok-stable-linux- 100%[===================>]   5.11M  9.58MB/s    in 0.5s    \n",
      "\n",
      "2019-02-22 18:30:41 (9.58 MB/s) - ‘ngrok-stable-linux-amd64.zip.1’ saved [5363700/5363700]\n",
      "\n",
      "Archive:  ngrok-stable-linux-amd64.zip\n",
      "replace ngrok? [y]es, [n]o, [A]ll, [N]one, [r]ename: N\n"
     ]
    }
   ],
   "source": [
    "! wget https://bin.equinox.io/c/4VmDzA7iaHb/ngrok-stable-linux-amd64.zip\n",
    "! unzip ngrok-stable-linux-amd64.zip\n",
    "\n",
    "! cp ./gdrive/My\\ Drive/IU/AML/Labs/Lab4/wikipedia_sample_tiny.txt ."
   ]
  },
  {
   "cell_type": "code",
   "execution_count": null,
   "metadata": {
    "colab": {},
    "colab_type": "code",
    "id": "8XxPVwMnGxmD"
   },
   "outputs": [],
   "source": [
    "N = 5000\n",
    "CSIZE = 4\n",
    "LR = 0.001\n",
    "EPOCHS = 5\n",
    "NEGATIVES = 5\n",
    "EMBEDDING_DIM = 50\n",
    "CONTEXTS_BATCH = 20\n",
    "BUFFER_LENGTH = 50000"
   ]
  },
  {
   "cell_type": "markdown",
   "metadata": {
    "colab_type": "text",
    "id": "6dE5_-zhGZ24"
   },
   "source": [
    "# Vocabulary"
   ]
  },
  {
   "cell_type": "code",
   "execution_count": null,
   "metadata": {
    "colab": {},
    "colab_type": "code",
    "id": "SX3-nnkBGKL6"
   },
   "outputs": [],
   "source": [
    "import numpy as np\n",
    "\n",
    "from collections import Counter\n",
    "\n",
    "\n",
    "class Voc:\n",
    "    def __init__(self):\n",
    "        self._initialize_data()\n",
    "\n",
    "    def _initialize_data(self, text=True):\n",
    "        if text:\n",
    "            self.text = []\n",
    "            self.text_ids = []\n",
    "        self.num_words = 0\n",
    "        self.word2count = Counter()\n",
    "        self.word2index = {}\n",
    "        self.word2discard = {}\n",
    "\n",
    "    def add_sentence(self, sentence):\n",
    "        for word in sentence.split(' '):\n",
    "            self.add_word(word)\n",
    "\n",
    "    def add_word(self, word, count=1, text=True):\n",
    "        if text:\n",
    "            self.text.append(word)\n",
    "        self.word2count.update({word: count})\n",
    "        if word not in self.word2index:\n",
    "            self.word2index[word] = self.num_words\n",
    "            self.num_words += 1\n",
    "\n",
    "    def prune(self, nth_keep):\n",
    "        keep_words = self.word2count.most_common(nth_keep)\n",
    "        self._initialize_data(text=False)\n",
    "        for word, count in keep_words:\n",
    "            self.add_word(word, count, text=False)\n",
    "\n",
    "    def store_words_freqs(self):\n",
    "        voc_freqs = self.word2count.most_common()\n",
    "        self.words, frequencies = zip(*voc_freqs)\n",
    "        self.frequencies = np.array(frequencies)\n",
    "        self.frequencies_sum = sum(self.frequencies)\n",
    "\n",
    "    def store_central_context(self):\n",
    "        self.context = []\n",
    "        for i, word in enumerate(self.text):\n",
    "            if word in self.word2index:\n",
    "                word_id = self.word2index[word]\n",
    "                self.context.append((i, word, word_id))"
   ]
  },
  {
   "cell_type": "markdown",
   "metadata": {
    "colab_type": "text",
    "id": "FGeHTwFiGdar"
   },
   "source": [
    "# Data Loader"
   ]
  },
  {
   "cell_type": "code",
   "execution_count": null,
   "metadata": {
    "colab": {},
    "colab_type": "code",
    "id": "H_EE49z-GEAh"
   },
   "outputs": [],
   "source": [
    "import re\n",
    "import csv\n",
    "import logging\n",
    "import unicodedata\n",
    "import numpy as np\n",
    "\n",
    "\n",
    "BUFFER_LENGTH = 50000\n",
    "\n",
    "\n",
    "class Loader:\n",
    "    def __init__(self, datafile, preprocess=False, prune=0):\n",
    "        \"\"\"\n",
    "        Loads data into a VOC object\n",
    "\n",
    "        :param datafile: Path to where is the dataset file located\n",
    "        :param preprocess: Apply normalization, ascii... to the data\n",
    "        :param prune: Nth more frequent words to keep (0 if keep all)\n",
    "        \"\"\"\n",
    "        self.datafile = datafile\n",
    "        self.preprocess = preprocess\n",
    "        self.prune = prune\n",
    "\n",
    "        # Create VOC from data\n",
    "        self.voc = self._load_data()\n",
    "\n",
    "        # Initialize negative samples random buffer\n",
    "        self.random_buffer = self._generate_random_buffer(first=True)\n",
    "        self.index_buffer = 0\n",
    "\n",
    "    # Batching Methods\n",
    "\n",
    "    def next_batch(self, n_contexts, context_size, k):\n",
    "        batch_size = n_contexts * (2 * context_size + k)\n",
    "        logging.debug('Generating epoch batches (batch_size ~= {})...'.format(batch_size))\n",
    "\n",
    "        i, x_central_batch, x_samples_batch, y_batch = 0, [], [], []\n",
    "\n",
    "        total_contexts = len(self.voc.context)\n",
    "        while i < total_contexts:\n",
    "            word_pos_text, word, word_id = self.voc.context[i]\n",
    "            i += 1\n",
    "\n",
    "            #  Positive samples\n",
    "            context_words_ids = self._get_context_words(word_pos_text, context_size)\n",
    "            j, total_context_words = 0, len(context_words_ids)\n",
    "            while j < total_context_words:\n",
    "                x_central_batch.append(word_id)\n",
    "                x_samples_batch.append(context_words_ids[j])\n",
    "                y_batch.append(1.0)\n",
    "                j += 1\n",
    "\n",
    "            #  Negative Samples\n",
    "            negative_words_ids = self._get_negative_samples(k, word)\n",
    "            j, total_negative_words = 0, len(negative_words_ids)\n",
    "            while j < total_negative_words:\n",
    "                x_central_batch.append(word_id)\n",
    "                x_samples_batch.append(negative_words_ids[j])\n",
    "                y_batch.append(0.0)\n",
    "                j += 1\n",
    "\n",
    "            # Yield batches when size >= BATCH_SIZE\n",
    "            if len(y_batch) >= batch_size:\n",
    "                yield i, x_central_batch, x_samples_batch, y_batch\n",
    "                x_central_batch, x_samples_batch, y_batch = [], [], []\n",
    "\n",
    "        yield i, x_central_batch, x_samples_batch, y_batch\n",
    "        \n",
    "    def _get_context_words(self, pos, cs):\n",
    "        begin = max(0, pos - cs)\n",
    "        end = min(pos + cs + 1, len(self.voc.text))\n",
    "        return [self.voc.word2index[cw]\n",
    "                for cw in self.voc.text[begin:pos] + self.voc.text[pos + 1:end]\n",
    "                if cw in self.voc.word2index]\n",
    "\n",
    "    def _get_negative_samples(self, k, c):\n",
    "        if self.index_buffer + k > 50000:\n",
    "            self.random_buffer += self._generate_random_buffer()\n",
    "            self.index_buffer = 0\n",
    "\n",
    "        k_negative_samples = self.random_buffer[self.index_buffer:self.index_buffer + k]\n",
    "        self.index_buffer += k\n",
    "\n",
    "        return [self.voc.word2index[nw] for nw in k_negative_samples if nw != c]\n",
    "\n",
    "    def _generate_random_buffer(self, first=False):\n",
    "        if first:\n",
    "            unigram = self.voc.frequencies / self.voc.frequencies_sum\n",
    "            modified_unigram = np.power(unigram, 0.75)\n",
    "            self.modified_unigram_weighs = modified_unigram / sum(modified_unigram)\n",
    "        return np.random.choice(self.voc.words, BUFFER_LENGTH, p=self.modified_unigram_weighs).tolist()\n",
    "\n",
    "    # MetaData Methods\n",
    "\n",
    "    def generate_metadata_projector(self):\n",
    "        with open('metadata.tsv', mode='w', newline='') as f:\n",
    "            tsv_output = csv.writer(f, delimiter='\\t')\n",
    "            for i in list(self.voc.word2index.keys()):\n",
    "                tsv_output.writerow([i])\n",
    "\n",
    "    # Loader Methods\n",
    "\n",
    "    def _load_data(self):\n",
    "        \"\"\"Populates and returns a VOC object\"\"\"\n",
    "        logging.info('Start preparing training data...')\n",
    "        data = self._read_data()\n",
    "        voc = Voc()\n",
    "\n",
    "        logging.info('Counting words...')\n",
    "        for line in data:\n",
    "            voc.add_sentence(line)\n",
    "\n",
    "        logging.info('Counted words: {}'.format(voc.num_words))\n",
    "\n",
    "        if self.prune > 0:\n",
    "            logging.info('Pruning Vocabulary...')\n",
    "            voc.prune(self.prune)\n",
    "            logging.info('Counted words (after prune): {}'.format(voc.num_words))\n",
    "\n",
    "        logging.info('Storing words frequencies...')\n",
    "        voc.store_words_freqs()\n",
    "\n",
    "        logging.info('Storing word contexts...')\n",
    "        voc.store_central_context()\n",
    "\n",
    "        return voc\n",
    "\n",
    "    def _read_data(self):\n",
    "        \"\"\"Reads data from the given file and returns it splitted up in lines\"\"\"\n",
    "        with open(self.datafile, mode='r', encoding='utf-8') as f:\n",
    "            lines = f.read().strip().split('\\n')\n",
    "            if self.preprocess:\n",
    "                lines = [Loader._normalize_string(s) for s in lines]\n",
    "            return lines\n",
    "\n",
    "    @staticmethod\n",
    "    def _normalize_string(s):\n",
    "        \"\"\"Lowercase, trim, and remove non-letter characters\"\"\"\n",
    "        s = Loader._unicode_to_ascii(s.lower().strip())\n",
    "        s = re.sub(r'([.!?])', r' \\1', s)\n",
    "        s = re.sub(r'[^a-zA-Z.!?]+', r' ', s)\n",
    "        s = re.sub(r'\\s+', r' ', s).strip()\n",
    "        return s\n",
    "\n",
    "    @staticmethod\n",
    "    def _unicode_to_ascii(s):\n",
    "        \"\"\"Turn a Unicode string to plain ASCII\"\"\"\n",
    "        return ''.join(c for c in unicodedata.normalize('NFD', s)\n",
    "                       if unicodedata.category(c) != 'Mn')"
   ]
  },
  {
   "cell_type": "markdown",
   "metadata": {
    "colab_type": "text",
    "id": "4Kc5g9-aGfiy"
   },
   "source": [
    "# Word2Vec"
   ]
  },
  {
   "cell_type": "code",
   "execution_count": null,
   "metadata": {
    "colab": {},
    "colab_type": "code",
    "id": "aBakQ-UtGXHF"
   },
   "outputs": [],
   "source": [
    "import os\n",
    "import shutil\n",
    "import logging\n",
    "import tensorflow as tf\n",
    "\n",
    "class Word2Vec:\n",
    "    \"\"\"Word2Vec model (Skip-gram)\"\"\"\n",
    "\n",
    "    def __init__(self, data):\n",
    "        self.data = data\n",
    "        self.voc_size = data.voc.num_words\n",
    "\n",
    "        # Initialize graph\n",
    "        tf.reset_default_graph()\n",
    "        self.build_graph()\n",
    "\n",
    "    def train(self):\n",
    "        \"\"\"Train the model with the data and specified Hyperparameters\"\"\"\n",
    "        sess = tf.Session()\n",
    "        saver = tf.train.Saver()\n",
    "\n",
    "        if os.path.exists('./tf_summary'):\n",
    "            logging.debug('Removing old CG visualizations and checkpoints...')\n",
    "            shutil.rmtree('./tf_summary', ignore_errors=True)\n",
    "\n",
    "        writer = tf.summary.FileWriter('./tf_summary', graph=sess.graph)\n",
    "\n",
    "        logging.info('Training started!')\n",
    "\n",
    "        init = tf.global_variables_initializer()\n",
    "        sess.run(init)\n",
    "\n",
    "        step = 0\n",
    "        global_step = 0\n",
    "        for epoch in range(1, EPOCHS + 1):\n",
    "            print('Epoch {}'.format(epoch))\n",
    "            progress = tf.keras.utils.Progbar(target=len(self.data.voc.text),\n",
    "                                              stateful_metrics=['batch loss'],\n",
    "                                              width=40, interval=10)\n",
    "\n",
    "            batches = self.data.next_batch(CONTEXTS_BATCH, CSIZE, NEGATIVES)\n",
    "            for last_word_idx, i_central, i_samples, targets in batches:\n",
    "                step += 1\n",
    "                d = {self.x_central: i_central,\n",
    "                     self.x_samples: i_samples,\n",
    "                     self.y: targets}\n",
    "\n",
    "                sess.run(self.optimize, feed_dict=d)\n",
    "\n",
    "                if step % 1000 == 0:\n",
    "                    _, loss, summ = sess.run([self.embedding, self.loss, self.summary], feed_dict=d)\n",
    "                    progress.update(last_word_idx, values=[\n",
    "                        ('batch loss', loss), ('epoch loss', loss)])\n",
    "\n",
    "                    logging.debug('Saving Summary {}'.format(global_step))\n",
    "                    writer.add_summary(summ, global_step=global_step)\n",
    "\n",
    "                    logging.debug('Saving Checkpoint {}'.format(global_step))\n",
    "                    saver.save(sess, 'tf_summary/model.ckpt', global_step=global_step)\n",
    "\n",
    "                    global_step += 1\n",
    "\n",
    "            progress.update(len(self.data.voc.text), values=[\n",
    "                ('batch loss', loss), ('epoch loss', loss)])\n",
    "\n",
    "        writer.close()\n",
    "        sess.close()\n",
    "\n",
    "    def build_graph(self):\n",
    "        \"\"\"Build and return TensorFlow Computational Graph\"\"\"\n",
    "        # Placeholders\n",
    "        self.x_central = tf.placeholder(tf.int32, shape=[None], name='X_central')\n",
    "        self.x_samples = tf.placeholder(tf.int32, shape=[None], name='X_samples')\n",
    "        self.y = tf.placeholder(tf.float32, shape=[None], name='Labels')\n",
    "\n",
    "        # Weight Matrices\n",
    "        W1 = tf.Variable(tf.random_uniform(shape=(self.voc_size, EMBEDDING_DIM),\n",
    "                                           minval=-1, maxval=1, name='W_in'))\n",
    "        W2 = tf.Variable(tf.random_uniform(shape=(self.voc_size, EMBEDDING_DIM),\n",
    "                                           minval=-1, maxval=1, name='W_out'))\n",
    "\n",
    "        # Lookups\n",
    "        central_lookup = tf.nn.embedding_lookup(W1, self.x_central)\n",
    "        samples_lookup = tf.nn.embedding_lookup(W2, self.x_samples)\n",
    "\n",
    "        mult_lookups = tf.multiply(central_lookup, samples_lookup)\n",
    "        sum_lookups = tf.reduce_sum(mult_lookups, axis=1)\n",
    "\n",
    "        #  Loss and Optimization\n",
    "\n",
    "        sigmoid_ce = tf.nn.sigmoid_cross_entropy_with_logits(labels=self.y,\n",
    "                                                             logits=sum_lookups)\n",
    "        self.loss = tf.reduce_mean(sigmoid_ce)\n",
    "        tf.summary.scalar('loss', self.loss)\n",
    "\n",
    "        optimizer = tf.contrib.opt.LazyAdamOptimizer(learning_rate=LR)\n",
    "        self.optimize = optimizer.minimize(self.loss)\n",
    "\n",
    "        # Final matrix\n",
    "        embedding_matrix = tf.nn.l2_normalize(0.5 * (W1 + W2), axis=1)\n",
    "        self.embedding = tf.Variable(embedding_matrix, name='Embedding')\n",
    "\n",
    "        self.summary = tf.summary.merge_all()\n",
    "        logging.info('CG built...')"
   ]
  },
  {
   "cell_type": "markdown",
   "metadata": {
    "colab_type": "text",
    "id": "V9mBaxMEGhYL"
   },
   "source": [
    "# Main"
   ]
  },
  {
   "cell_type": "code",
   "execution_count": null,
   "metadata": {
    "colab": {},
    "colab_type": "code",
    "id": "nukEJW4qGlcZ"
   },
   "outputs": [],
   "source": [
    "logging.getLogger().setLevel(logging.INFO)    "
   ]
  },
  {
   "cell_type": "code",
   "execution_count": null,
   "metadata": {
    "colab": {},
    "colab_type": "code",
    "id": "WhY4PhVdX_Ii"
   },
   "outputs": [],
   "source": [
    "LOG_DIR = './tf_summary'\n",
    "get_ipython().system_raw(\n",
    "    'tensorboard --logdir {} --host 0.0.0.0 --port 6006 &'.format(LOG_DIR)\n",
    ")\n",
    "\n",
    "get_ipython().system_raw('./ngrok http 6006 &')\n",
    "\n",
    "! curl -s http://localhost:4040/api/tunnels | python3 -c \\\n",
    "    \"import sys, json; print(json.load(sys.stdin)['tunnels'][0]['public_url'])\""
   ]
  },
  {
   "cell_type": "code",
   "execution_count": null,
   "metadata": {
    "colab": {},
    "colab_type": "code",
    "id": "GpzBRa6oPZzq"
   },
   "outputs": [],
   "source": [
    "data = Loader('wikipedia_sample_tiny.txt', prune=N)\n",
    "data.generate_metadata_projector()"
   ]
  },
  {
   "cell_type": "code",
   "execution_count": null,
   "metadata": {
    "colab": {},
    "colab_type": "code",
    "id": "ssBtYel4OCrQ",
    "scrolled": false
   },
   "outputs": [],
   "source": [
    "model = Word2Vec(data)\n",
    "model.train()"
   ]
  }
 ],
 "metadata": {
  "colab": {
   "collapsed_sections": [],
   "name": "Word2Vec.ipynb",
   "provenance": [],
   "toc_visible": true,
   "version": "0.3.2"
  },
  "kernelspec": {
   "display_name": "Python 3",
   "language": "python",
   "name": "python3"
  },
  "language_info": {
   "codemirror_mode": {
    "name": "ipython",
    "version": 3
   },
   "file_extension": ".py",
   "mimetype": "text/x-python",
   "name": "python",
   "nbconvert_exporter": "python",
   "pygments_lexer": "ipython3",
   "version": "3.6.8"
  }
 },
 "nbformat": 4,
 "nbformat_minor": 2
}
